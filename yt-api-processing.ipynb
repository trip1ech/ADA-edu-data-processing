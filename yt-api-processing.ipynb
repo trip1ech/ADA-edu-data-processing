{
 "cells": [
  {
   "cell_type": "markdown",
   "metadata": {},
   "source": [
    "#### Channel Data"
   ]
  },
  {
   "cell_type": "code",
   "execution_count": null,
   "metadata": {},
   "outputs": [
    {
     "name": "stdout",
     "output_type": "stream",
     "text": [
      "   category_cc   join_date                   channel                  name_cc  \\\n",
      "20   Education  2015-06-29  UCltVEZ6GecWntoZ19FvaWhQ                   Ekeeda   \n",
      "54   Education  2015-01-06  UCtJ9PC1Llj4f2DWPEz8utTA  Manchester Twp Schoo...   \n",
      "60   Education  2010-04-20  UC9NTBQja_r2NI5e56PvuSAA           Daniel Kreuter   \n",
      "78   Education  2015-01-30  UC4db8x07Kr0LQODjjen6w7A            Taylor Allard   \n",
      "95   Education  2011-11-01  UCQFUt_0q3piEMaxJtOsz0fQ           Taylor Fuentes   \n",
      "\n",
      "    subscribers_cc  videos_cc  subscriber_rank_sb  \n",
      "20          513000       6240             32492.0  \n",
      "54           10300        102            920473.0  \n",
      "60           56700        250            253163.0  \n",
      "78           14600         88            744777.0  \n",
      "95           48500        343                 NaN  \n"
     ]
    }
   ],
   "source": [
    "import pandas as pd\n",
    "\n",
    "file_path = '__mini___raw_df_channels_100k.tsv'\n",
    "\n",
    "df_channel = pd.read_csv(file_path, sep='\\t')\n",
    "\n",
    "df_education_channel = df_channel[df_channel['category_cc'] == 'Education']\n",
    "\n",
    "print(df_education_channel.head())"
   ]
  },
  {
   "cell_type": "markdown",
   "metadata": {},
   "source": [
    "#### YouTube Data API to get the Country info of a channel"
   ]
  },
  {
   "cell_type": "code",
   "execution_count": null,
   "metadata": {},
   "outputs": [],
   "source": [
    "# pip install google-auth google-auth-oauthlib google-auth-httplib2 google-api-python-client"
   ]
  },
  {
   "cell_type": "markdown",
   "metadata": {},
   "source": [
    "### Test the API"
   ]
  },
  {
   "cell_type": "code",
   "execution_count": null,
   "metadata": {},
   "outputs": [
    {
     "name": "stdout",
     "output_type": "stream",
     "text": [
      "Channel: Stop War In Ukraine\n",
      "Subscribes: 66500\n",
      "Views: 20727962\n",
      "Country: UA\n"
     ]
    }
   ],
   "source": [
    "from googleapiclient.discovery import build\n",
    "\n",
    "# API key\n",
    "api_key = '##TODO: Replace your API KEY'\n",
    "youtube = build('youtube', 'v3', developerKey=api_key)\n",
    "\n",
    "# Channel ID\n",
    "channel_id = 'UCBJuEqXfXTdcPSbGO9qqn1g'  \n",
    "\n",
    "# The info we want\n",
    "request = youtube.channels().list(\n",
    "    part='snippet,contentDetails,statistics,brandingSettings',\n",
    "    id=channel_id\n",
    ")\n",
    "response = request.execute()\n",
    "\n",
    "# Channel info\n",
    "for item in response['items']:\n",
    "    print('Channel:', item['snippet']['title'])\n",
    "    print('Subscribes:', item['statistics']['subscriberCount'])\n",
    "    print('Views:', item['statistics']['viewCount'])\n",
    "    if 'country' in item['brandingSettings']['channel']:\n",
    "        print('Country:', item['brandingSettings']['channel']['country'])\n",
    "    else:\n",
    "        print('No Country Info in this channel')"
   ]
  },
  {
   "cell_type": "markdown",
   "metadata": {},
   "source": [
    "### Now add country info to our data"
   ]
  },
  {
   "cell_type": "code",
   "execution_count": null,
   "metadata": {},
   "outputs": [],
   "source": [
    "import pandas as pd\n",
    "from googleapiclient.discovery import build\n",
    "import time\n",
    "\n",
    "# API key\n",
    "api_key = '##TODO: Replace your API KEY'\n",
    "youtube = build('youtube', 'v3', developerKey=api_key)\n",
    "# Batch processing: The YouTube we can process 50 rows of data for each request\n",
    "batch_size = 50\n",
    "\n",
    "output_file = 'df_education_channel_with_country.csv'\n",
    "\n",
    "# If we already have a result, read it\n",
    "try:\n",
    "    df_result = pd.read_csv(output_file)\n",
    "    processed_ids = set(df_result['channel'])\n",
    "except FileNotFoundError:\n",
    "    df_result = pd.DataFrame()\n",
    "    processed_ids = set()\n",
    "\n",
    "# Process the channel without country data \n",
    "for i in range(0, len(df_education_channel), batch_size):\n",
    "    batch = df_education_channel.iloc[i:i+batch_size]\n",
    "    channel_ids = batch['channel']\n",
    "    \n",
    "    # Filter out the data that has already been processed \n",
    "    channel_ids = [ch_id for ch_id in channel_ids if ch_id not in processed_ids]\n",
    "    \n",
    "    if not channel_ids:\n",
    "        continue\n",
    "    \n",
    "    # API requset\n",
    "    request = youtube.channels().list(\n",
    "        part='brandingSettings',\n",
    "        id=','.join(channel_ids)\n",
    "    )\n",
    "    response = request.execute()\n",
    "    \n",
    "    # Process the result\n",
    "    country_data = []\n",
    "    for item in response['items']:\n",
    "        country = item.get('brandingSettings', {}).get('channel', {}).get('country', None)\n",
    "        channel_id = item['id']\n",
    "        country_data.append({'channel': channel_id, 'country': country})\n",
    "    \n",
    "    # Combine the result to DataFrame\n",
    "    df_country = pd.DataFrame(country_data)\n",
    "    batch = batch.merge(df_country, on='channel', how='left')\n",
    "    df_result = pd.concat([df_result, batch])\n",
    "    \n",
    "    # We should save the file in the loop\n",
    "    df_result.to_csv(output_file, index=False)\n",
    "    processed_ids.update(channel_ids)\n",
    "    time.sleep(0.3)  \n",
    "\n",
    "print(\"All country data are finished\")"
   ]
  },
  {
   "cell_type": "markdown",
   "metadata": {},
   "source": [
    "### Channels other than education categories"
   ]
  },
  {
   "cell_type": "code",
   "execution_count": null,
   "metadata": {},
   "outputs": [
    {
     "name": "stdout",
     "output_type": "stream",
     "text": [
      "Finished all the country data\n"
     ]
    }
   ],
   "source": [
    "import pandas as pd\n",
    "from googleapiclient.discovery import build\n",
    "import time\n",
    "\n",
    "# API key\n",
    "api_key = '##TODO: Replace your API KEY'\n",
    "youtube = build('youtube', 'v3', developerKey=api_key)\n",
    "# Batch processing: The YouTube we can process 50 rows of data for each request\n",
    "batch_size = 50\n",
    "\n",
    "output_file = 'df_other_channel_with_country.csv'\n",
    "\n",
    "# If we already have a result, read it\n",
    "try:\n",
    "    df_result = pd.read_csv(output_file)\n",
    "    processed_ids = set(df_result['channel'])\n",
    "except FileNotFoundError:\n",
    "    df_result = pd.DataFrame()\n",
    "    processed_ids = set()\n",
    "\n",
    "# Process the channel without country data \n",
    "for i in range(0, len(df_other_channel), batch_size):\n",
    "    batch = df_other_channel.iloc[i:i+batch_size]\n",
    "    channel_ids = batch['channel']\n",
    "    \n",
    "    # Filter out the data that has already been processed \n",
    "    channel_ids = [ch_id for ch_id in channel_ids if ch_id not in processed_ids]\n",
    "    \n",
    "    if not channel_ids:\n",
    "        continue\n",
    "    \n",
    "    # API requset\n",
    "    request = youtube.channels().list(\n",
    "        part='brandingSettings',\n",
    "        id=','.join(channel_ids)\n",
    "    )\n",
    "    response = request.execute()\n",
    "    \n",
    "    # Process the result\n",
    "    country_data = []\n",
    "    for item in response['items']:\n",
    "        country = item.get('brandingSettings', {}).get('channel', {}).get('country', None)\n",
    "        channel_id = item['id']\n",
    "        country_data.append({'channel': channel_id, 'country': country})\n",
    "    \n",
    "    # Merge the result to DataFrame\n",
    "    df_country = pd.DataFrame(country_data)\n",
    "    batch = batch.merge(df_country, on='channel', how='left')\n",
    "    df_result = pd.concat([df_result, batch])\n",
    "    \n",
    "    # We should save the file in the loop\n",
    "    df_result.to_csv(output_file, index=False)\n",
    "    processed_ids.update(channel_ids)\n",
    "\n",
    "print(\"Finished all the country data\")"
   ]
  }
 ],
 "metadata": {
  "language_info": {
   "name": "python"
  }
 },
 "nbformat": 4,
 "nbformat_minor": 2
}
